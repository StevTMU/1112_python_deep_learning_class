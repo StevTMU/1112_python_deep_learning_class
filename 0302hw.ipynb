{
  "nbformat": 4,
  "nbformat_minor": 0,
  "metadata": {
    "colab": {
      "provenance": [],
      "authorship_tag": "ABX9TyP0ESAv0MSSShggR9I0uELW",
      "include_colab_link": true
    },
    "kernelspec": {
      "name": "python3",
      "display_name": "Python 3"
    },
    "language_info": {
      "name": "python"
    },
    "accelerator": "GPU",
    "gpuClass": "standard"
  },
  "cells": [
    {
      "cell_type": "markdown",
      "metadata": {
        "id": "view-in-github",
        "colab_type": "text"
      },
      "source": [
        "<a href=\"https://colab.research.google.com/github/StevTMU/1112_python_deep_learning_class/blob/main/0302hw.ipynb\" target=\"_parent\"><img src=\"https://colab.research.google.com/assets/colab-badge.svg\" alt=\"Open In Colab\"/></a>"
      ]
    },
    {
      "cell_type": "code",
      "execution_count": null,
      "metadata": {
        "id": "u_IvaY2ByMeA"
      },
      "outputs": [],
      "source": [
        "def printdate():\n",
        "\n",
        "  Cyear = int(input(\"please enter year \"))\n",
        "  Cmonth = int(input(\"please enter month \"))\n",
        "  Cday = int(input(\"please enter date \"))\n",
        "\n",
        "  month_digits = ['00','01','02','03','04','05','06','07','08','09','10','11','12']\n",
        "  day_digits = ['00','01','02','03','04','05','06','07','08','09','10','11','12',\n",
        "                '13','14','15','16','17','18','19','20','21','22','23','24','25','26','27','28','29','30','31']\n",
        "  \n",
        "  Wyear = str(Cyear + 1911)\n",
        "  Wmonth = str(month_digits[Cmonth])\n",
        "  Wday = str(day_digits[Cday])\n",
        "  \n",
        "  date = str(Wyear) +'/'+str(Wmonth)+'/'+ str(Wday)\n",
        "\n",
        "  print(\"西元年/月/日 =\"+ date)\n",
        "    \n",
        "printdate()\n",
        "\n",
        "\n",
        "\n"
      ]
    }
  ]
}