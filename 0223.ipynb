{
  "nbformat": 4,
  "nbformat_minor": 0,
  "metadata": {
    "colab": {
      "provenance": [],
      "authorship_tag": "ABX9TyOzSaFMbsCYxWh4l7LlYPSR",
      "include_colab_link": true
    },
    "kernelspec": {
      "name": "python3",
      "display_name": "Python 3"
    },
    "language_info": {
      "name": "python"
    },
    "accelerator": "GPU",
    "gpuClass": "standard"
  },
  "cells": [
    {
      "cell_type": "markdown",
      "metadata": {
        "id": "view-in-github",
        "colab_type": "text"
      },
      "source": [
        "<a href=\"https://colab.research.google.com/github/StevTMU/1112_python_deep_learning_class/blob/main/0223.ipynb\" target=\"_parent\"><img src=\"https://colab.research.google.com/assets/colab-badge.svg\" alt=\"Open In Colab\"/></a>"
      ]
    },
    {
      "cell_type": "code",
      "source": [
        "strA = '醫師：啊最近的狀況還好嗎？民眾：還好啦。醫師：還好啦齁，一樣肚子還是不舒服...'\n",
        "\n",
        "A = '\"'+ strA[3:12] +'\"'\n",
        "B = '\"'+ strA[16:19] +'\"'\n",
        "C = '\"'+ strA[23:27] + strA[28:37]+'\"'"
      ],
      "metadata": {
        "id": "3-gIHFH3Bw26"
      },
      "execution_count": null,
      "outputs": []
    },
    {
      "cell_type": "code",
      "source": [
        "# solution 1\n",
        "print (\"[\"+(A)+\",\", end=\"\\n\")\n",
        "print ((B)+\",\", end=\"\\n\")\n",
        "print ((C)+\"]\")"
      ],
      "metadata": {
        "colab": {
          "base_uri": "https://localhost:8080/"
        },
        "id": "mSL9X2fpF0yR",
        "outputId": "4ccd0430-06ad-4d1e-a4a2-c7dc3ea13c28"
      },
      "execution_count": null,
      "outputs": [
        {
          "output_type": "stream",
          "name": "stdout",
          "text": [
            "[\"啊最近的狀況還好嗎\",\n",
            "\"還好啦\",\n",
            "\"還好啦齁一樣肚子還是不舒服\"]\n"
          ]
        }
      ]
    },
    {
      "cell_type": "code",
      "source": [
        "# solution 2\n",
        "print (\"[\"+(A)+\",\"+\"\\n\"+(B)+\",\"+\"\\n\"+(C)+\"]\")"
      ],
      "metadata": {
        "colab": {
          "base_uri": "https://localhost:8080/"
        },
        "id": "o-6C32kPFrdW",
        "outputId": "e1a81b08-4ac3-4689-d5cf-4df27f1fd229"
      },
      "execution_count": null,
      "outputs": [
        {
          "output_type": "stream",
          "name": "stdout",
          "text": [
            "[\"啊最近的狀況還好嗎\",\n",
            "\"還好啦\",\n",
            "\"還好啦齁一樣肚子還是不舒服\"]\n"
          ]
        }
      ]
    }
  ]
}